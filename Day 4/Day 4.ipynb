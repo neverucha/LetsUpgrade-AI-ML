{
 "cells": [
  {
   "cell_type": "markdown",
   "metadata": {},
   "source": [
    "# Question 5"
   ]
  },
  {
   "cell_type": "code",
   "execution_count": 19,
   "metadata": {},
   "outputs": [
    {
     "name": "stdout",
     "output_type": "stream",
     "text": [
      "23\n",
      "44\n",
      "18\n",
      "45\n",
      "87\n",
      "22\n",
      "39\n",
      "40\n"
     ]
    }
   ],
   "source": [
    "l= [23,44,18,45,6,87,22,39,40,11]\n",
    "for i in l:\n",
    "    if i/2>7:\n",
    "            print(i)\n"
   ]
  },
  {
   "cell_type": "markdown",
   "metadata": {},
   "source": [
    "# Question 4"
   ]
  },
  {
   "cell_type": "code",
   "execution_count": 21,
   "metadata": {},
   "outputs": [
    {
     "name": "stdout",
     "output_type": "stream",
     "text": [
      "142\n",
      "574\n",
      "1294\n",
      "2302\n",
      "3598\n"
     ]
    }
   ],
   "source": [
    "k=[12,24,36,48,60,7,21,35,49,63]\n",
    "for i in k:\n",
    "    if i%2==0:\n",
    "        print(i**2-2)"
   ]
  },
  {
   "cell_type": "markdown",
   "metadata": {},
   "source": [
    "# Question 3"
   ]
  },
  {
   "cell_type": "code",
   "execution_count": 25,
   "metadata": {},
   "outputs": [
    {
     "name": "stdout",
     "output_type": "stream",
     "text": [
      "600\n"
     ]
    }
   ],
   "source": [
    "x = 12\n",
    "y = 50\n",
    "\n",
    "if y-x>25:\n",
    "    print(x*y)\n",
    "else:\n",
    "    print(x/y)\n",
    "   "
   ]
  },
  {
   "cell_type": "markdown",
   "metadata": {},
   "source": [
    "# Question 2"
   ]
  },
  {
   "cell_type": "code",
   "execution_count": 26,
   "metadata": {},
   "outputs": [
    {
     "name": "stdout",
     "output_type": "stream",
     "text": [
      "1\n",
      "3\n",
      "5\n",
      "7\n",
      "9\n"
     ]
    }
   ],
   "source": [
    "z = range(1,10,2)\n",
    "for n in z:\n",
    "    print(n)"
   ]
  },
  {
   "cell_type": "markdown",
   "metadata": {},
   "source": [
    "Using range() function you can create a sequence of a numbers starting from say a to say b with the difference between the two consecutive number say d.\n",
    "Arguments used in the range() function are:\n",
    "1. Start number\n",
    "2. Ending Number\n",
    "3. Steps (i.e the required difference between the two consecutive numbers between start number and end number)"
   ]
  },
  {
   "cell_type": "markdown",
   "metadata": {},
   "source": [
    "# Question 1"
   ]
  },
  {
   "cell_type": "code",
   "execution_count": 29,
   "metadata": {},
   "outputs": [
    {
     "name": "stdout",
     "output_type": "stream",
     "text": [
      "(4+0j)\n",
      "6j\n",
      "(13+0j)\n",
      "(-0.38461538461538464+0.9230769230769231j)\n"
     ]
    }
   ],
   "source": [
    "a = 2+3j\n",
    "b = 2-3j\n",
    "x = a+b\n",
    "y = a-b\n",
    "z = a*b\n",
    "m = a/b\n",
    "\n",
    "\n",
    "print(x)\n",
    "print(y)\n",
    "print(z)\n",
    "print(m)\n",
    "\n"
   ]
  },
  {
   "cell_type": "markdown",
   "metadata": {},
   "source": [
    "one cannot use modulo and floor division operations on complex numbers."
   ]
  },
  {
   "cell_type": "code",
   "execution_count": null,
   "metadata": {},
   "outputs": [],
   "source": []
  }
 ],
 "metadata": {
  "kernelspec": {
   "display_name": "Python 3",
   "language": "python",
   "name": "python3"
  },
  "language_info": {
   "codemirror_mode": {
    "name": "ipython",
    "version": 3
   },
   "file_extension": ".py",
   "mimetype": "text/x-python",
   "name": "python",
   "nbconvert_exporter": "python",
   "pygments_lexer": "ipython3",
   "version": "3.7.6"
  }
 },
 "nbformat": 4,
 "nbformat_minor": 4
}
