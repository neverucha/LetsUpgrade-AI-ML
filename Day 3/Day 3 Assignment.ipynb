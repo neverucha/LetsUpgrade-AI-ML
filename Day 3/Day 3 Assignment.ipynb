{
 "cells": [
  {
   "cell_type": "markdown",
   "metadata": {},
   "source": [
    "# Question 1"
   ]
  },
  {
   "cell_type": "code",
   "execution_count": 1,
   "metadata": {},
   "outputs": [
    {
     "name": "stdout",
     "output_type": "stream",
     "text": [
      "(2+3j)\n",
      "(2-3j)\n",
      "subtraction of a and b is 6j\n"
     ]
    }
   ],
   "source": [
    "a = 2+3j\n",
    "b = 2-3j\n",
    "c = a-b\n",
    "print (a)\n",
    "print (b)\n",
    "print (\"subtraction of a and b is\",c)"
   ]
  },
  {
   "cell_type": "markdown",
   "metadata": {},
   "source": [
    "# Question 2"
   ]
  },
  {
   "cell_type": "code",
   "execution_count": 3,
   "metadata": {},
   "outputs": [
    {
     "name": "stdout",
     "output_type": "stream",
     "text": [
      "16\n",
      "Fourth root of a is 2.0\n"
     ]
    }
   ],
   "source": [
    "a = 16\n",
    "c = a**(1/4)\n",
    "print (a)\n",
    "print (\"Fourth root of a is\",c)"
   ]
  },
  {
   "cell_type": "markdown",
   "metadata": {},
   "source": [
    "# Question 3"
   ]
  },
  {
   "cell_type": "code",
   "execution_count": 4,
   "metadata": {},
   "outputs": [
    {
     "name": "stdout",
     "output_type": "stream",
     "text": [
      "The value of x after swapping: 2\n",
      "The value of y after swapping: 11\n"
     ]
    }
   ],
   "source": [
    "x = 11\n",
    "y = 2\n",
    "\n",
    "temp = x\n",
    "x = y\n",
    "y = temp\n",
    "\n",
    "print('The value of x after swapping: {}'.format(x))\n",
    "print('The value of y after swapping: {}'.format(y))"
   ]
  },
  {
   "cell_type": "markdown",
   "metadata": {},
   "source": [
    "# Question 4"
   ]
  },
  {
   "cell_type": "code",
   "execution_count": 6,
   "metadata": {},
   "outputs": [
    {
     "name": "stdout",
     "output_type": "stream",
     "text": [
      "The value of x after swapping is 2\n",
      "The value of y after swapping is 11\n"
     ]
    }
   ],
   "source": [
    "x = 11\n",
    "y = 2\n",
    "\n",
    "x, y = y, x\n",
    "\n",
    "print(\"The value of x after swapping is\", x)\n",
    "\n",
    "print(\"The value of y after swapping is\", y)"
   ]
  },
  {
   "cell_type": "markdown",
   "metadata": {},
   "source": [
    "# Question 5"
   ]
  },
  {
   "cell_type": "code",
   "execution_count": 9,
   "metadata": {},
   "outputs": [
    {
     "name": "stdout",
     "output_type": "stream",
     "text": [
      "Temp in Fahrenheit =  98.6\n",
      "Temp in Celcius =  36.99999999999999\n",
      "Temp in Kelvin =  310.15\n"
     ]
    }
   ],
   "source": [
    "F = 98.6\n",
    "C = (F-32)/1.8\n",
    "K = C+273.15\n",
    "\n",
    "print (\"Temp in Fahrenheit = \",F)\n",
    "print (\"Temp in Celcius = \",C)\n",
    "print (\"Temp in Kelvin = \",K)"
   ]
  },
  {
   "cell_type": "markdown",
   "metadata": {},
   "source": [
    "\n",
    "# Question 6"
   ]
  },
  {
   "cell_type": "code",
   "execution_count": 13,
   "metadata": {},
   "outputs": [
    {
     "name": "stdout",
     "output_type": "stream",
     "text": [
      "<class 'str'>\n",
      "<class 'int'>\n",
      "<class 'complex'>\n",
      "<class 'float'>\n"
     ]
    }
   ],
   "source": [
    "a = \"Rucha\"\n",
    "b = 2\n",
    "c = 2+3j\n",
    "d = 98.6\n",
    "print (type (a))\n",
    "print (type (b))\n",
    "print (type (c))\n",
    "print (type (d))"
   ]
  },
  {
   "cell_type": "markdown",
   "metadata": {},
   "source": [
    "# Question 7"
   ]
  },
  {
   "cell_type": "markdown",
   "metadata": {},
   "source": [
    "#Submitting Assignment on GitHub\n",
    "1. Click \"File\" option in notebook\n",
    "2. Go to \"Download As\"-> \"Notebook(.ipynb)\"\n",
    "3. Upload the downloaded .ipynb file to github and share the link in google form\n"
   ]
  },
  {
   "cell_type": "code",
   "execution_count": null,
   "metadata": {},
   "outputs": [],
   "source": []
  }
 ],
 "metadata": {
  "kernelspec": {
   "display_name": "Python 3",
   "language": "python",
   "name": "python3"
  },
  "language_info": {
   "codemirror_mode": {
    "name": "ipython",
    "version": 3
   },
   "file_extension": ".py",
   "mimetype": "text/x-python",
   "name": "python",
   "nbconvert_exporter": "python",
   "pygments_lexer": "ipython3",
   "version": "3.7.6"
  }
 },
 "nbformat": 4,
 "nbformat_minor": 4
}
